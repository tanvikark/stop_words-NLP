{
 "cells": [
  {
   "cell_type": "code",
   "execution_count": 1,
   "id": "e84be868-5c7d-4ad6-9054-5d1dc99b7b61",
   "metadata": {},
   "outputs": [],
   "source": [
    "import spacy"
   ]
  },
  {
   "cell_type": "code",
   "execution_count": 3,
   "id": "88ae0300-976c-441d-b2f9-69b8b9c94425",
   "metadata": {},
   "outputs": [],
   "source": [
    "nlp = spacy.load('en_core_web_sm')"
   ]
  },
  {
   "cell_type": "code",
   "execution_count": 7,
   "id": "0bd8c900-e317-49d1-9f45-a9f4cb0cbf2f",
   "metadata": {},
   "outputs": [
    {
     "name": "stdout",
     "output_type": "stream",
     "text": [
      "{'same', 'front', 'whose', 'but', '‘d', 'at', 'thru', 'will', 'along', 'elsewhere', 'any', 'whither', 'eleven', 'has', 'about', 'see', 'it', 'be', '‘ve', 'behind', 'latterly', 'fifty', 'everything', 'anywhere', 'enough', \"'m\", 'bottom', 'well', 'rather', 'though', 'every', 'these', 'could', 'somewhere', 'unless', 'on', 'alone', '’s', 'never', 'show', 'four', 'seem', 'ourselves', 'may', 'say', 'everyone', 'becoming', 'twenty', 'which', 'and', 'indeed', 'can', 'forty', 'otherwise', 'n‘t', 'most', 'with', 'she', 'above', 'made', 'take', 'yourself', 'third', 'ours', 'neither', 'only', 'former', \"'ve\", 'last', 'however', 'of', 'below', 'had', 'up', 'full', 'via', 'not', 'all', '’m', 'together', 'himself', 'therefore', 'yours', 'been', '’ve', 'twelve', 'out', 'seemed', 'who', 'thereafter', 'whereafter', 'in', 'are', 'whatever', 'whence', 'often', 'themselves', 'your', 'less', 'both', 'nine', 'serious', 'throughout', 'please', 'seeming', 'hence', 'did', 'do', 'part', 'cannot', 'being', 'some', 'ca', 'other', 'two', 'whoever', 'now', 'into', 'just', 'one', 'further', 'get', 'even', 'thereby', 'eight', '‘m', 'so', 'they', 'here', 'once', 'else', 'when', 'afterwards', 'none', 'us', 'three', 'myself', 'those', 'empty', 'due', 'them', \"n't\", 'an', 'everywhere', 'after', 'first', 'noone', 'thus', \"'ll\", 'herein', 'side', 'sixty', 'across', 'much', 'around', 'keep', 'would', 'anyone', 'become', 'that', 'since', 'something', \"'re\", 'although', 'thereupon', 'n’t', 'always', 'nevertheless', 'make', 'using', 'no', 'the', 'latter', 'until', 'go', 'its', 'also', 'move', 'again', 'nor', 'under', 'between', 'others', 'without', 'wherever', 'whereby', \"'d\", 'i', 'someone', 'through', 'such', \"'s\", 'whenever', 'mine', 'during', 'each', 'already', 'beside', 'least', 'hundred', 'towards', 'whether', 'besides', 'anyhow', 'anything', 'how', 'yourselves', 'over', 'thence', 'used', '’ll', 'he', 'per', 'various', 'sometime', 'upon', 'there', 'if', '’re', 'hereafter', 'nobody', 'somehow', 'beyond', 'anyway', 'off', 'quite', 'very', 'top', 'before', 'then', 'meanwhile', 'you', 'formerly', 'many', 'too', 'where', 'wherein', '’d', 'than', 'amount', 'beforehand', 'her', '‘re', 'have', 'does', 'what', 'amongst', 'more', 'whom', 'whereas', 'five', 'as', 'or', 'next', 'mostly', 'among', 'really', 'own', 'a', 'because', 'put', 'still', 'their', 'perhaps', 'back', 'several', 'his', 're', 'give', 'nowhere', 'within', 'whereupon', 'while', 'either', '‘ll', 'for', 'must', 'should', 'whole', 'except', 'am', 'were', 'our', 'hereby', 'toward', 'by', 'herself', 'doing', 'was', 'hers', 'to', 'down', 'onto', 'we', 'therein', 'regarding', 'another', 'itself', 'moreover', 'is', 'from', 'against', 'might', 'me', 'nothing', 'yet', 'became', 'him', 'ten', 'ever', 'few', 'almost', 'done', 'my', 'call', 'why', 'name', 'six', 'seems', 'fifteen', 'sometimes', 'this', 'namely', 'becomes', 'hereupon', '‘s'}\n"
     ]
    }
   ],
   "source": [
    "print(nlp.Defaults.stop_words)"
   ]
  },
  {
   "cell_type": "code",
   "execution_count": 9,
   "id": "6fad8d5f-0ebb-450c-850c-e9aecc284515",
   "metadata": {},
   "outputs": [
    {
     "name": "stdout",
     "output_type": "stream",
     "text": [
      "326\n"
     ]
    }
   ],
   "source": [
    "print(len(nlp.Defaults.stop_words))"
   ]
  },
  {
   "cell_type": "code",
   "execution_count": 11,
   "id": "43c38b20-6119-4632-b94b-970bf2887621",
   "metadata": {},
   "outputs": [
    {
     "data": {
      "text/plain": [
       "True"
      ]
     },
     "execution_count": 11,
     "metadata": {},
     "output_type": "execute_result"
    }
   ],
   "source": [
    "# to see if a word is a stop word\n",
    "nlp.vocab['myself'].is_stop"
   ]
  },
  {
   "cell_type": "code",
   "execution_count": 13,
   "id": "fa85d2de-1dc0-4386-94f4-8ffd29dcde8b",
   "metadata": {},
   "outputs": [
    {
     "data": {
      "text/plain": [
       "False"
      ]
     },
     "execution_count": 13,
     "metadata": {},
     "output_type": "execute_result"
    }
   ],
   "source": [
    "nlp.vocab['mystery'].is_stop"
   ]
  },
  {
   "cell_type": "code",
   "execution_count": 19,
   "id": "4d38487e-f51e-4ae1-84b5-f7530cb71bf8",
   "metadata": {},
   "outputs": [],
   "source": [
    "#to add astop word\n",
    "nlp.Defaults.stop_words.add('btw')"
   ]
  },
  {
   "cell_type": "code",
   "execution_count": 23,
   "id": "126b5ea2-3cc9-4d35-a4c8-082c22ea1510",
   "metadata": {},
   "outputs": [],
   "source": [
    "#set the stop_word tag on the lexeme\n",
    "nlp.vocab['btw'].is_stop=True"
   ]
  },
  {
   "cell_type": "code",
   "execution_count": 25,
   "id": "094966f1-5135-4cde-9caf-44c76b3f14ca",
   "metadata": {},
   "outputs": [
    {
     "data": {
      "text/plain": [
       "328"
      ]
     },
     "execution_count": 25,
     "metadata": {},
     "output_type": "execute_result"
    }
   ],
   "source": [
    "len(nlp.Defaults.stop_words)"
   ]
  },
  {
   "cell_type": "code",
   "execution_count": 27,
   "id": "589d531d-257a-4606-8e55-e2243d0d0ec6",
   "metadata": {},
   "outputs": [
    {
     "data": {
      "text/plain": [
       "True"
      ]
     },
     "execution_count": 27,
     "metadata": {},
     "output_type": "execute_result"
    }
   ],
   "source": [
    "nlp.vocab['btw'].is_stop"
   ]
  },
  {
   "cell_type": "code",
   "execution_count": 33,
   "id": "c72553d4-9ed2-4062-99cc-9b8c989ab799",
   "metadata": {},
   "outputs": [
    {
     "data": {
      "text/plain": [
       "False"
      ]
     },
     "execution_count": 33,
     "metadata": {},
     "output_type": "execute_result"
    }
   ],
   "source": [
    "# To remove a stop word\n",
    "nlp.Defaults.stop_words.remove('beyond')\n",
    "nlp.vocab['beyond'].is_stop=False\n",
    "len(nlp.Defaults.stop_words)\n",
    "nlp.vocab['beyond'].is_stop"
   ]
  },
  {
   "cell_type": "code",
   "execution_count": null,
   "id": "da69245e-770d-4046-9709-7235da364692",
   "metadata": {},
   "outputs": [],
   "source": []
  }
 ],
 "metadata": {
  "kernelspec": {
   "display_name": "Python 3 (ipykernel)",
   "language": "python",
   "name": "python3"
  },
  "language_info": {
   "codemirror_mode": {
    "name": "ipython",
    "version": 3
   },
   "file_extension": ".py",
   "mimetype": "text/x-python",
   "name": "python",
   "nbconvert_exporter": "python",
   "pygments_lexer": "ipython3",
   "version": "3.12.4"
  }
 },
 "nbformat": 4,
 "nbformat_minor": 5
}
